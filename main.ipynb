{
 "cells": [
  {
   "cell_type": "markdown",
   "id": "1a073400",
   "metadata": {},
   "source": [
    "# Import necessary libraries"
   ]
  },
  {
   "cell_type": "code",
   "execution_count": 36,
   "id": "f6a5efdb",
   "metadata": {},
   "outputs": [],
   "source": [
    "import numpy as np\n",
    "import sounddevice as sd\n",
    "from scipy.io import wavfile\n",
    "from rice_coder import rice_encoder, rice_decoder"
   ]
  },
  {
   "cell_type": "markdown",
   "id": "709cc2d1",
   "metadata": {},
   "source": [
    "# Read the audio file to encode"
   ]
  },
  {
   "cell_type": "code",
   "execution_count": 37,
   "id": "ff8a285d",
   "metadata": {},
   "outputs": [],
   "source": [
    "filepath = 'Sound2.wav'\n",
    "sample_rate, audio = wavfile.read(filepath)"
   ]
  },
  {
   "cell_type": "markdown",
   "id": "68a4a158",
   "metadata": {},
   "source": [
    "# Play original audio"
   ]
  },
  {
   "cell_type": "code",
   "execution_count": 38,
   "id": "6216db35",
   "metadata": {},
   "outputs": [
    {
     "name": "stdout",
     "output_type": "stream",
     "text": [
      "Playing original audio...!\n"
     ]
    }
   ],
   "source": [
    "print('Playing original audio...!')\n",
    "sd.play(audio, sample_rate)"
   ]
  },
  {
   "cell_type": "markdown",
   "id": "50e56804",
   "metadata": {},
   "source": [
    "# Encode the audio file and write as .ex2"
   ]
  },
  {
   "cell_type": "code",
   "execution_count": 39,
   "id": "9c071307",
   "metadata": {},
   "outputs": [],
   "source": [
    "idx = filepath.find(\".wav\")\n",
    "encoded_file = filepath[:idx] + \"_Enc.ex2\"\n",
    "M = 4 # you can change the M. K is calculated based on M k=log2(4)=2 bits for k=4 bit M should be 16s\n",
    "with open(encoded_file, 'wb') as codedfile:\n",
    "    for i in range(len(audio)):\n",
    "        e = rice_encoder(audio[i], M) + '\\n'\n",
    "        codedfile.write(e.encode())\n",
    "codedfile.close()"
   ]
  },
  {
   "cell_type": "markdown",
   "id": "aa6a1bd0",
   "metadata": {},
   "source": [
    "# Decode the encoded audio file"
   ]
  },
  {
   "cell_type": "code",
   "execution_count": 40,
   "id": "6cd5c268",
   "metadata": {},
   "outputs": [],
   "source": [
    "decoded_audio = []\n",
    "with open(encoded_file, 'rb') as codedfile:\n",
    "    for i in codedfile:\n",
    "        decoded_audio.append(rice_decoder(i.decode('utf8').strip(), M))\n",
    "codedfile.close()\n",
    "decoded_audio = np.array(decoded_audio, dtype='int16')"
   ]
  },
  {
   "cell_type": "markdown",
   "id": "88a8987a",
   "metadata": {},
   "source": [
    "# Play decoded audio"
   ]
  },
  {
   "cell_type": "code",
   "execution_count": 41,
   "id": "8c7ec198",
   "metadata": {},
   "outputs": [
    {
     "name": "stdout",
     "output_type": "stream",
     "text": [
      "Playing decoded audio...!\n"
     ]
    }
   ],
   "source": [
    "print('Playing decoded audio...!')\n",
    "sd.play(decoded_audio, sample_rate)"
   ]
  },
  {
   "cell_type": "markdown",
   "id": "86c4c61b",
   "metadata": {},
   "source": [
    "# Write decoded audio file in .wav format"
   ]
  },
  {
   "cell_type": "code",
   "execution_count": 42,
   "id": "6dd13921",
   "metadata": {},
   "outputs": [],
   "source": [
    "idx = encoded_file.find(\".ex2\")\n",
    "decoded_file = encoded_file[:idx] + \"_Dec.wav\"\n",
    "wavfile.write(decoded_file, sample_rate, decoded_audio)"
   ]
  },
  {
   "cell_type": "code",
   "execution_count": null,
   "id": "bbedbf71",
   "metadata": {},
   "outputs": [],
   "source": []
  }
 ],
 "metadata": {
  "jupytext": {
   "cell_metadata_filter": "-all",
   "notebook_metadata_filter": "-all"
  },
  "kernelspec": {
   "display_name": "Python 3 (ipykernel)",
   "language": "python",
   "name": "python3"
  },
  "language_info": {
   "codemirror_mode": {
    "name": "ipython",
    "version": 3
   },
   "file_extension": ".py",
   "mimetype": "text/x-python",
   "name": "python",
   "nbconvert_exporter": "python",
   "pygments_lexer": "ipython3",
   "version": "3.10.9"
  }
 },
 "nbformat": 4,
 "nbformat_minor": 5
}
