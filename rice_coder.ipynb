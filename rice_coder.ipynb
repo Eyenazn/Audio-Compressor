{
 "cells": [
  {
   "cell_type": "code",
   "execution_count": 1,
   "id": "6e37d2fa",
   "metadata": {},
   "outputs": [],
   "source": [
    "import math"
   ]
  },
  {
   "cell_type": "code",
   "execution_count": 2,
   "id": "fbbf020c",
   "metadata": {},
   "outputs": [],
   "source": [
    "def rice_encoder(S, M):\n",
    "    # If sample value is negative, consider it positive\n",
    "    # and store signs separately\n",
    "    sign = \"-\" if S < 0 else \"+\"\n",
    "    S = abs(S)\n",
    "    \n",
    "    # Compute K using equation, M = 2^K\n",
    "    K = int(math.ceil(math.log(M, 2)))\n",
    "\n",
    "    # For S, the number to be encoded, find q and r\n",
    "    quotient = S // M\n",
    "    remainder = S % M\n",
    "\n",
    "    # Generate codeword for q\n",
    "    q_code_str = \"1\" * quotient\n",
    "\n",
    "    # Write out r in binary\n",
    "    diff = 2 ** K - M\n",
    "    r = remainder + diff if remainder >= diff else remainder\n",
    "    \n",
    "    # Convert r to binary using fixed length K\n",
    "    r_code_str = format(r, 'b').zfill(K)\n",
    "\n",
    "    # Encoded string\n",
    "    code_word = f\"{sign}{q_code_str}0{r_code_str}\"\n",
    "    \n",
    "    return code_word"
   ]
  },
  {
   "cell_type": "code",
   "execution_count": 3,
   "id": "d73685c0",
   "metadata": {},
   "outputs": [],
   "source": [
    "def rice_decoder(S, M):\n",
    "    # Separate the sign and K-bits binary\n",
    "    sign = S[0]\n",
    "    S = S[1:]\n",
    "\n",
    "    # Compute K using equation, M = 2^K\n",
    "    K = int(math.ceil(math.log(M, 2)))\n",
    "\n",
    "    # Separate q and r by spliting at the first 0\n",
    "    q_code_str, r_code_str = S.split('0', 1)\n",
    "\n",
    "    # Get quotient, q, by counting number of 1s before the first 0\n",
    "    q = len(q_code_str)\n",
    "\n",
    "    # Get remainder, r, by converting the next K-bits binary to decimal\n",
    "    r = int(r_code_str, 2)\n",
    "    \n",
    "    # Compute decoded number using q * M + r\n",
    "    S_decoded = q * M + r\n",
    "\n",
    "    # Change sign of the decoded bit\n",
    "    if sign == '-':\n",
    "        S_decoded = -S_decoded\n",
    "\n",
    "    return S_decoded"
   ]
  },
  {
   "cell_type": "code",
   "execution_count": null,
   "id": "e4d9bdc1",
   "metadata": {},
   "outputs": [],
   "source": []
  }
 ],
 "metadata": {
  "kernelspec": {
   "display_name": "Python 3 (ipykernel)",
   "language": "python",
   "name": "python3"
  },
  "language_info": {
   "codemirror_mode": {
    "name": "ipython",
    "version": 3
   },
   "file_extension": ".py",
   "mimetype": "text/x-python",
   "name": "python",
   "nbconvert_exporter": "python",
   "pygments_lexer": "ipython3",
   "version": "3.10.9"
  }
 },
 "nbformat": 4,
 "nbformat_minor": 5
}
