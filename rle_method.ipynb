{
 "cells": [
  {
   "cell_type": "markdown",
   "id": "7de39a05",
   "metadata": {},
   "source": [
    "# Import necessary libraries"
   ]
  },
  {
   "cell_type": "code",
   "execution_count": 83,
   "id": "d1b0da74",
   "metadata": {},
   "outputs": [],
   "source": [
    "import wave"
   ]
  },
  {
   "cell_type": "markdown",
   "id": "c36b6b74",
   "metadata": {},
   "source": [
    "# Encoding wav file using RLE"
   ]
  },
  {
   "cell_type": "code",
   "execution_count": 84,
   "id": "28de6b9e",
   "metadata": {},
   "outputs": [],
   "source": [
    "def encode_wav(input_file, output_file):\n",
    "    with open(input_file, 'rb') as f:\n",
    "        audio_data = f.read()\n",
    "\n",
    "    # Simple Run-Length Encoding\n",
    "    encoded_data = bytearray()\n",
    "    count = 1\n",
    "    for i in range(1, len(audio_data)):\n",
    "        if audio_data[i] == audio_data[i-1] and count < 255:\n",
    "            count += 1\n",
    "        else:\n",
    "            encoded_data.append(count)\n",
    "            encoded_data.append(audio_data[i-1])\n",
    "            count = 1\n",
    "\n",
    "    with open(output_file, 'wb') as f:\n",
    "        f.write(encoded_data)"
   ]
  },
  {
   "cell_type": "markdown",
   "id": "e0941ca5",
   "metadata": {},
   "source": [
    "# Decoding Wav"
   ]
  },
  {
   "cell_type": "code",
   "execution_count": 85,
   "id": "d688a6d4",
   "metadata": {},
   "outputs": [],
   "source": [
    "def decode_wav(input_file, output_file):\n",
    "    with open(input_file, 'rb') as f:\n",
    "        encoded_data = f.read()\n",
    "\n",
    "    decoded_data = bytearray()\n",
    "    for i in range(0, len(encoded_data), 2):\n",
    "        count = encoded_data[i]\n",
    "        value = encoded_data[i+1]\n",
    "        decoded_data.extend([value] * count)\n",
    "\n",
    "    with open(output_file, 'wb') as f:\n",
    "        f.write(decoded_data)"
   ]
  },
  {
   "cell_type": "markdown",
   "id": "f1b32908",
   "metadata": {},
   "source": [
    "# Decoding the encoded file"
   ]
  },
  {
   "cell_type": "code",
   "execution_count": 86,
   "id": "239211e9",
   "metadata": {},
   "outputs": [],
   "source": [
    "encode_wav('Sound1.wav', 'Sound1_Enc.ex2')\n",
    "decode_wav('Sound1_Enc.ex2', 'Sound1_Enc_Dec.wav')"
   ]
  },
  {
   "cell_type": "code",
   "execution_count": null,
   "id": "fde8b630",
   "metadata": {},
   "outputs": [],
   "source": []
  }
 ],
 "metadata": {
  "kernelspec": {
   "display_name": "Python 3 (ipykernel)",
   "language": "python",
   "name": "python3"
  },
  "language_info": {
   "codemirror_mode": {
    "name": "ipython",
    "version": 3
   },
   "file_extension": ".py",
   "mimetype": "text/x-python",
   "name": "python",
   "nbconvert_exporter": "python",
   "pygments_lexer": "ipython3",
   "version": "3.10.9"
  }
 },
 "nbformat": 4,
 "nbformat_minor": 5
}
